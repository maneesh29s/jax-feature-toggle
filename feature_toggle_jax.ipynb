{
 "cells": [
  {
   "cell_type": "markdown",
   "metadata": {},
   "source": [
    "# Feature Toggle in JAX"
   ]
  },
  {
   "cell_type": "markdown",
   "metadata": {},
   "source": [
    "## Importing dependencies"
   ]
  },
  {
   "cell_type": "code",
   "execution_count": null,
   "metadata": {},
   "outputs": [],
   "source": [
    "import jax\n",
    "from jax import jit\n",
    "from jax import numpy as jnp\n",
    "from functools import partial\n",
    "from chex import dataclass"
   ]
  },
  {
   "cell_type": "markdown",
   "metadata": {},
   "source": [
    "### Initializing jit compiled functions"
   ]
  },
  {
   "cell_type": "code",
   "execution_count": null,
   "metadata": {},
   "outputs": [],
   "source": [
    "def step1(a , b):\n",
    "    return a + b\n",
    "\n",
    "def step2(a , b):\n",
    "    return a * b\n",
    "\n",
    "def step3(a , b):\n",
    "    return a - b"
   ]
  },
  {
   "cell_type": "markdown",
   "metadata": {},
   "source": [
    "## Initialising data"
   ]
  },
  {
   "cell_type": "code",
   "execution_count": null,
   "metadata": {},
   "outputs": [],
   "source": [
    "from jax import random\n",
    "\n",
    "rng1, rng2 = jax.random.split(random.PRNGKey(14), 2)\n",
    "a = jax.random.normal(rng1, (1000, 1000))\n",
    "b = jax.random.normal(rng2, (1000, 1000))"
   ]
  },
  {
   "cell_type": "markdown",
   "metadata": {},
   "source": [
    "## Toggle based on \"key\" or structure of the features pytree"
   ]
  },
  {
   "cell_type": "code",
   "execution_count": null,
   "metadata": {},
   "outputs": [],
   "source": [
    "@dataclass\n",
    "class Features():\n",
    "    enable_step1: bool\n",
    "    enable_step2: bool\n",
    "    enable_step3: bool\n",
    "\n",
    "    def __hash__(self):\n",
    "        return hash((self.enable_step1, self.enable_step2, self.enable_step3))\n",
    "\n",
    "    def __eq__(self, other):\n",
    "        assertions = []\n",
    "        for key in self:\n",
    "            assertions.append(self[key] == other[key])\n",
    "        return all(assertions)"
   ]
  },
  {
   "cell_type": "code",
   "execution_count": null,
   "metadata": {},
   "outputs": [],
   "source": [
    "import configparser\n",
    "\n",
    "def load_config(config_file: str) -> Features:\n",
    "    config = configparser.ConfigParser()\n",
    "    config.read(config_file)\n",
    "    \n",
    "    pt = config[\"Features\"]\n",
    "\n",
    "    enable_step1 = pt.getboolean(\"enable_step1\", True)\n",
    "    enable_step2 = pt.getboolean(\"enable_step2\", True)\n",
    "    enable_step3 = pt.getboolean(\"enable_step3\", True)\n",
    "\n",
    "    return Features(\n",
    "        enable_step1 = enable_step1,\n",
    "        enable_step2 = enable_step2,\n",
    "        enable_step3 = enable_step3\n",
    "    )\n"
   ]
  },
  {
   "cell_type": "code",
   "execution_count": null,
   "metadata": {},
   "outputs": [],
   "source": [
    "features = load_config(\"features.ini\")\n",
    "print(features)"
   ]
  },
  {
   "cell_type": "markdown",
   "metadata": {},
   "source": [
    "## Pipeline with feature toggle"
   ]
  },
  {
   "cell_type": "code",
   "execution_count": null,
   "metadata": {},
   "outputs": [],
   "source": [
    "@partial(jit, static_argnums=2)\n",
    "def pipeline_with_toggle(a , b, features):    \n",
    "    \n",
    "    step1_out = 0\n",
    "    if features.enable_step1:\n",
    "        step1_out = step1(a, b)\n",
    "    \n",
    "    step2_out = 0\n",
    "    if features.enable_step2:\n",
    "        step2_out = step2(a, b)\n",
    "\n",
    "    step3_out = 0\n",
    "    if features.enable_step3:\n",
    "        step3_out = step3(a, b)\n",
    "\n",
    "    output = step1_out + step2_out + step3_out\n",
    "\n",
    "    return output"
   ]
  },
  {
   "cell_type": "markdown",
   "metadata": {},
   "source": [
    "## Statically defined pipeline without feature toggle"
   ]
  },
  {
   "cell_type": "code",
   "execution_count": null,
   "metadata": {},
   "outputs": [],
   "source": [
    "@jit\n",
    "def pipeline(a , b):    \n",
    "    # step1_out = step1(a, b)\n",
    "    step2_out = step2(a, b)\n",
    "    step3_out = step3(a, b)\n",
    "    output = step2_out + step3_out\n",
    "\n",
    "    return output"
   ]
  },
  {
   "cell_type": "markdown",
   "metadata": {},
   "source": [
    "## Comparing output"
   ]
  },
  {
   "cell_type": "code",
   "execution_count": null,
   "metadata": {},
   "outputs": [],
   "source": [
    "tout = pipeline_with_toggle(a, b, features)\n",
    "sout = pipeline(a, b)\n",
    "\n",
    "jnp.allclose(tout, sout)"
   ]
  },
  {
   "cell_type": "markdown",
   "metadata": {},
   "source": [
    "## Benchmarks"
   ]
  },
  {
   "cell_type": "code",
   "execution_count": null,
   "metadata": {},
   "outputs": [],
   "source": [
    "# %timeit pipeline(a, b)"
   ]
  },
  {
   "cell_type": "code",
   "execution_count": null,
   "metadata": {},
   "outputs": [],
   "source": [
    "# %timeit pipeline_with_toggle(a, b, features)"
   ]
  },
  {
   "cell_type": "markdown",
   "metadata": {},
   "source": [
    "## Generating jaxprs"
   ]
  },
  {
   "cell_type": "code",
   "execution_count": null,
   "metadata": {},
   "outputs": [],
   "source": [
    "print(jax.make_jaxpr(pipeline_with_toggle, static_argnums=2)(a, b, features))"
   ]
  },
  {
   "cell_type": "code",
   "execution_count": null,
   "metadata": {},
   "outputs": [],
   "source": [
    "print(jax.make_jaxpr(pipeline)(a, b))"
   ]
  }
 ],
 "metadata": {
  "kernelspec": {
   "display_name": "lbm-env",
   "language": "python",
   "name": "python3"
  },
  "language_info": {
   "codemirror_mode": {
    "name": "ipython",
    "version": 3
   },
   "file_extension": ".py",
   "mimetype": "text/x-python",
   "name": "python",
   "nbconvert_exporter": "python",
   "pygments_lexer": "ipython3",
   "version": "3.11.5"
  }
 },
 "nbformat": 4,
 "nbformat_minor": 2
}
