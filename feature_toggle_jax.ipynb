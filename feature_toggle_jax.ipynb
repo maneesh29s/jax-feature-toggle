{
 "cells": [
  {
   "cell_type": "markdown",
   "metadata": {},
   "source": [
    "# Feature Toggle in JAX"
   ]
  },
  {
   "cell_type": "markdown",
   "metadata": {},
   "source": [
    "## Importing dependencies"
   ]
  },
  {
   "cell_type": "code",
   "execution_count": null,
   "metadata": {},
   "outputs": [],
   "source": [
    "import jax\n",
    "from jax import jit\n",
    "from jax import numpy as jnp\n",
    "from functools import partial\n",
    "from chex import dataclass"
   ]
  },
  {
   "cell_type": "markdown",
   "metadata": {},
   "source": [
    "### Initializing jit compiled functions"
   ]
  },
  {
   "cell_type": "code",
   "execution_count": null,
   "metadata": {},
   "outputs": [],
   "source": [
    "@jit\n",
    "def add(a , b):\n",
    "    return a + b\n",
    "\n",
    "@jit\n",
    "def mul(a , b):\n",
    "    return jnp.matmul(a, b)\n",
    "\n",
    "@jit\n",
    "def sub(a , b):\n",
    "    return a - b"
   ]
  },
  {
   "cell_type": "markdown",
   "metadata": {},
   "source": [
    "## Initialising data"
   ]
  },
  {
   "cell_type": "code",
   "execution_count": null,
   "metadata": {},
   "outputs": [],
   "source": [
    "from jax import random\n",
    "\n",
    "rng1, rng2 = jax.random.split(random.PRNGKey(14), 2)\n",
    "a = jax.random.normal(rng1, (1000, 1000))\n",
    "b = jax.random.normal(rng2, (1000, 1000))"
   ]
  },
  {
   "cell_type": "markdown",
   "metadata": {},
   "source": [
    "## Toggle based on \"key\" or structure of the features pytree"
   ]
  },
  {
   "cell_type": "code",
   "execution_count": null,
   "metadata": {},
   "outputs": [],
   "source": [
    "@dataclass\n",
    "class Features():\n",
    "    enable_add: bool\n",
    "    enable_mul: bool\n",
    "    enable_sub: bool\n",
    "\n",
    "    def __hash__(self):\n",
    "        # TODO: can not hash jax arrays, so only hashing float variables\n",
    "        return hash((self.enable_add, self.enable_mul, self.enable_sub))\n",
    "\n",
    "    def __eq__(self, other):\n",
    "        assertions = []\n",
    "        for key in self:\n",
    "            assertions.append(self[key] == other[key])\n",
    "        return all(assertions)"
   ]
  },
  {
   "cell_type": "code",
   "execution_count": null,
   "metadata": {},
   "outputs": [],
   "source": [
    "import configparser\n",
    "\n",
    "def load_config(config_file: str) -> Features:\n",
    "    config = configparser.ConfigParser()\n",
    "    config.read(config_file)\n",
    "    \n",
    "    pt = config[\"Features\"]\n",
    "\n",
    "    enable_add = pt.getboolean(\"enable_add\", True)\n",
    "    enable_sub = pt.getboolean(\"enable_sub\", True)\n",
    "    enable_mul = pt.getboolean(\"enable_mul\", True)\n",
    "\n",
    "    return Features(\n",
    "        enable_add = enable_add,\n",
    "        enable_sub = enable_sub,\n",
    "        enable_mul = enable_mul\n",
    "    )\n"
   ]
  },
  {
   "cell_type": "code",
   "execution_count": null,
   "metadata": {},
   "outputs": [],
   "source": [
    "features = load_config(\"features.ini\")"
   ]
  },
  {
   "cell_type": "markdown",
   "metadata": {},
   "source": [
    "## Pipeline with feature toggle"
   ]
  },
  {
   "cell_type": "code",
   "execution_count": null,
   "metadata": {},
   "outputs": [],
   "source": [
    "@partial(jit, static_argnums=2)\n",
    "def simulate_with_toggle(a , b, features):    \n",
    "    \n",
    "    add_out = 0\n",
    "    if features.enable_add:\n",
    "        add_out = add(a, b)\n",
    "    \n",
    "    mul_out = 0\n",
    "    if features.enable_mul:\n",
    "        mul_out = mul(a, b)\n",
    "\n",
    "    sub_out = 0\n",
    "    if features.enable_sub:\n",
    "        sub_out = sub(a, b)\n",
    "\n",
    "    output = add_out + mul_out + sub_out\n",
    "\n",
    "    return output"
   ]
  },
  {
   "cell_type": "markdown",
   "metadata": {},
   "source": [
    "## Statically defined pipeline without feature toggle"
   ]
  },
  {
   "cell_type": "code",
   "execution_count": null,
   "metadata": {},
   "outputs": [],
   "source": [
    "@jit\n",
    "def simulate(a , b):    \n",
    "    # add_out = add(a, b)\n",
    "    mul_out = mul(a, b)\n",
    "    sub_out = sub(a, b)\n",
    "    output = mul_out + sub_out\n",
    "\n",
    "    return output"
   ]
  },
  {
   "cell_type": "markdown",
   "metadata": {},
   "source": [
    "## Comparing output"
   ]
  },
  {
   "cell_type": "code",
   "execution_count": null,
   "metadata": {},
   "outputs": [],
   "source": [
    "tout = simulate_with_toggle(a, b, features)\n",
    "sout = simulate(a, b)\n",
    "\n",
    "jnp.allclose(tout, sout)"
   ]
  },
  {
   "cell_type": "markdown",
   "metadata": {},
   "source": [
    "## Benchmarks"
   ]
  },
  {
   "cell_type": "code",
   "execution_count": null,
   "metadata": {},
   "outputs": [],
   "source": [
    "# %timeit simulate(a, b)"
   ]
  },
  {
   "cell_type": "code",
   "execution_count": null,
   "metadata": {},
   "outputs": [],
   "source": [
    "# %timeit simulate_with_toggle(a, b, features)"
   ]
  },
  {
   "cell_type": "markdown",
   "metadata": {},
   "source": [
    "## Generating jaxprs"
   ]
  },
  {
   "cell_type": "code",
   "execution_count": null,
   "metadata": {},
   "outputs": [],
   "source": [
    "print(jax.make_jaxpr(simulate_with_toggle, static_argnums=2)(a, b, features))"
   ]
  },
  {
   "cell_type": "code",
   "execution_count": null,
   "metadata": {},
   "outputs": [],
   "source": [
    "print(jax.make_jaxpr(simulate)(a, b))"
   ]
  }
 ],
 "metadata": {
  "kernelspec": {
   "display_name": "lbm-env",
   "language": "python",
   "name": "python3"
  },
  "language_info": {
   "codemirror_mode": {
    "name": "ipython",
    "version": 3
   },
   "file_extension": ".py",
   "mimetype": "text/x-python",
   "name": "python",
   "nbconvert_exporter": "python",
   "pygments_lexer": "ipython3",
   "version": "3.11.5"
  }
 },
 "nbformat": 4,
 "nbformat_minor": 2
}
