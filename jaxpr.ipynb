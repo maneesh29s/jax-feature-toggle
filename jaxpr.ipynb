{
 "cells": [
  {
   "cell_type": "code",
   "execution_count": null,
   "metadata": {},
   "outputs": [],
   "source": [
    "import jax\n",
    "from jax import jit\n",
    "from jax import numpy as jnp"
   ]
  },
  {
   "cell_type": "markdown",
   "metadata": {},
   "source": [
    "## Simple AXPY"
   ]
  },
  {
   "cell_type": "code",
   "execution_count": null,
   "metadata": {},
   "outputs": [],
   "source": [
    "def AXPY(a: jnp.float32,\n",
    "         x: jax.Array,\n",
    "         y: jax.Array) -> jax.Array:\n",
    "    ans = a * x + y\n",
    "\n",
    "    # Uncomment below lines to see traced objects while making jaxpr\n",
    "    # print(\"a = \"    , a)\n",
    "    # print(\"x = \"    , x)\n",
    "    # print(\"y = \"    , y)\n",
    "    # print(\"ans = \"  , ans)\n",
    "\n",
    "    return ans"
   ]
  },
  {
   "cell_type": "code",
   "execution_count": null,
   "metadata": {},
   "outputs": [],
   "source": [
    "AXPYjitted = jit(AXPY)\n",
    "type(AXPYjitted)"
   ]
  },
  {
   "cell_type": "code",
   "execution_count": null,
   "metadata": {},
   "outputs": [],
   "source": [
    "import sys\n",
    "import inspect\n",
    "\n",
    "# to get all the functions defined in the current python environment\n",
    "inspect.getmembers(sys.modules[__name__], inspect.isfunction)\n",
    "# AXPYjitted is not a function, its an instance of class PjitFunction, so its not part of the list"
   ]
  },
  {
   "cell_type": "code",
   "execution_count": null,
   "metadata": {},
   "outputs": [],
   "source": [
    "a = 0.5\n",
    "x = jnp.full((5,5),2.0)\n",
    "y = jnp.full((5,5),3.0)"
   ]
  },
  {
   "cell_type": "code",
   "execution_count": null,
   "metadata": {},
   "outputs": [],
   "source": [
    "print(jax.make_jaxpr(AXPY)(a,x,y))"
   ]
  },
  {
   "cell_type": "markdown",
   "metadata": {},
   "source": [
    "## AXPY with side-effects"
   ]
  },
  {
   "cell_type": "code",
   "execution_count": null,
   "metadata": {},
   "outputs": [],
   "source": [
    "b = 10 # global variable\n",
    "\n",
    "def AXPY2(a: jnp.float32,\n",
    "         x: jax.Array,\n",
    "         y: jax.Array) -> jax.Array:\n",
    "    # the main AXPY function\n",
    "    ans = a * x + y\n",
    "    \n",
    "    # priting: side-effect\n",
    "    print(\"Performing AXPY\")\n",
    "\n",
    "    # accessing global variable\n",
    "    ans = ans + b\n",
    "    return ans"
   ]
  },
  {
   "cell_type": "code",
   "execution_count": null,
   "metadata": {},
   "outputs": [],
   "source": [
    "# this will output \"Performing AXPY\" as it executes the print statement\n",
    "# but its not part of the jaxpr\n",
    "jax.make_jaxpr(AXPY2)(a,x,y)"
   ]
  }
 ],
 "metadata": {
  "kernelspec": {
   "display_name": "lbm-env",
   "language": "python",
   "name": "python3"
  },
  "language_info": {
   "codemirror_mode": {
    "name": "ipython",
    "version": 3
   },
   "file_extension": ".py",
   "mimetype": "text/x-python",
   "name": "python",
   "nbconvert_exporter": "python",
   "pygments_lexer": "ipython3",
   "version": "3.11.5"
  }
 },
 "nbformat": 4,
 "nbformat_minor": 2
}
